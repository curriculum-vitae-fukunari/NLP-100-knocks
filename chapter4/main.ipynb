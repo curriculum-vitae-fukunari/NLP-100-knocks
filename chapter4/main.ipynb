{
 "cells": [
  {
   "cell_type": "markdown",
   "metadata": {
    "collapsed": true
   },
   "source": [
    "# 第4章: 形態素解析\n",
    "\n",
    "夏目漱石の小説『吾輩は猫である』の文章（neko.txt）をMeCabを使って形態素解析し、  \n",
    "その結果をneko.txt.mecabというファイルに保存せよ。  \n",
    "このファイルを用いて，以下の問に対応するプログラムを実装せよ。  \n",
    "なお，問題37, 38, 39はmatplotlibもしくはGnuplotを用いるとよい。  "
   ]
  },
  {
   "cell_type": "markdown",
   "metadata": {},
   "source": [
    "### 形態素解析\n",
    "\n",
    "文章を文法に基づき形態素（意味をもつ最小単位に分割）に分割し、  \n",
    "品詞などの解析を行う。  \n",
    "その語がどんな品詞で元はどんな形なのかなどを知ることができる。  \n",
    "単語の出現頻度を調べることができる。  \n",
    "応用例は構文解析や単語のベクトル表現など。  "
   ]
  },
  {
   "cell_type": "markdown",
   "metadata": {},
   "source": [
    "mecabと辞書をインストールする。\n",
    "\n",
    "```\n",
    "$ brew install mecab\n",
    "$ brew install mecab-ipadic\n",
    "```\n",
    "\n",
    "以下にインストールされた。\n",
    "\n",
    "```\n",
    "/usr/local/etc/mecabrc\n",
    "/usr/local/bin/mecab\n",
    "/usr/local/bin/mecab-config\n",
    "```"
   ]
  },
  {
   "cell_type": "markdown",
   "metadata": {},
   "source": [
    "動作確認を行う。以下を入力。\n",
    "\n",
    "```\n",
    "$ mecab\n",
    "MeCab はフリーソフトウェアです\n",
    "```\n",
    "\n",
    "実行結果\n",
    "\n",
    "```\n",
    "MeCab   名詞,固有名詞,組織,*,*,*,*\n",
    "は 助詞,係助詞,*,*,*,*,は,ハ,ワ\n",
    "フリー   名詞,一般,*,*,*,*,フリー,フリー,フリー\n",
    "ソフトウェア  名詞,一般,*,*,*,*,ソフトウェア,ソフトウェア,ソフトウェア\n",
    "です  助動詞,*,*,*,特殊・デス,基本形,です,デス,デス\n",
    "EOS\n",
    "```"
   ]
  },
  {
   "cell_type": "code",
   "execution_count": 1,
   "metadata": {},
   "outputs": [],
   "source": [
    "import MeCab\n",
    "from MeCab import Tagger\n",
    "from typing import List, Dict\n",
    "import os\n",
    "import re\n",
    "from collections import Counter\n",
    "from matplotlib import pyplot\n",
    "%matplotlib inline"
   ]
  },
  {
   "cell_type": "code",
   "execution_count": 2,
   "metadata": {},
   "outputs": [],
   "source": [
    "with open(\"./data/neko.txt\", \"r\") as file:\n",
    "    lines: List[str] = file.readlines()\n",
    "\n",
    "text: str = \"\".join(lines)\n",
    "tagger: Tagger = MeCab.Tagger()\n",
    "parsed: str = tagger.parse(text)\n",
    "\n",
    "with open(\"./data/neko.txt.mecab\", \"w\") as file:\n",
    "    file.writelines(parsed)"
   ]
  },
  {
   "cell_type": "markdown",
   "metadata": {},
   "source": [
    "## 30. 形態素解析結果の読み込み\n",
    "\n",
    "形態素解析結果（neko.txt.mecab）を読み込むプログラムを実装せよ。  \n",
    "ただし、各形態素は表層形（surface）、基本形（base）、品詞（pos）、品詞細分類1（pos1）  \n",
    "をキーとするマッピング型に格納し、\n",
    "1文を形態素（マッピング型）のリストとして表現せよ。  \n",
    "第4章の残りの問題では，ここで作ったプログラムを活用せよ。\n"
   ]
  },
  {
   "cell_type": "code",
   "execution_count": 3,
   "metadata": {},
   "outputs": [
    {
     "data": {
      "text/plain": [
       "[{'base': '一', 'pos': '名詞', 'pos1': '数', 'surface': '一'},\n",
       " {'base': '\\u3000', 'pos': '記号', 'pos1': '空白', 'surface': '\\u3000'},\n",
       " {'base': '吾輩', 'pos': '名詞', 'pos1': '代名詞', 'surface': '吾輩'},\n",
       " {'base': 'は', 'pos': '助詞', 'pos1': '係助詞', 'surface': 'は'},\n",
       " {'base': '猫', 'pos': '名詞', 'pos1': '一般', 'surface': '猫'},\n",
       " {'base': 'だ', 'pos': '助動詞', 'pos1': '*', 'surface': 'で'},\n",
       " {'base': 'ある', 'pos': '助動詞', 'pos1': '*', 'surface': 'ある'},\n",
       " {'base': '。', 'pos': '記号', 'pos1': '句点', 'surface': '。'},\n",
       " {'base': '名前', 'pos': '名詞', 'pos1': '一般', 'surface': '名前'},\n",
       " {'base': 'は', 'pos': '助詞', 'pos1': '係助詞', 'surface': 'は'}]"
      ]
     },
     "execution_count": 3,
     "metadata": {},
     "output_type": "execute_result"
    }
   ],
   "source": [
    "with open(\"./data/neko.txt.mecab\") as file:\n",
    "    lines: List[str] = file.readlines()\n",
    "\n",
    "# EOFの行だけ削除する\n",
    "lines.pop()\n",
    "\n",
    "dictionary_list: List[Dict[str, str]] = []\n",
    "for line in lines:\n",
    "    splited_list = re.split(\"[\\t,]\", line)\n",
    "\n",
    "    surface: str = splited_list[0]\n",
    "    base: str = splited_list[7]\n",
    "    pos: str = splited_list[1]\n",
    "    pos1: str = splited_list[2]\n",
    "\n",
    "    dictionary: Dict[str, str] = {\"surface\": surface,\n",
    "                                  \"base\": base,\n",
    "                                  \"pos\": pos,\n",
    "                                  \"pos1\": pos1}\n",
    "\n",
    "    dictionary_list.append(dictionary)\n",
    "\n",
    "# 最初の10つのみ表示\n",
    "dictionary_list[:10]"
   ]
  },
  {
   "cell_type": "markdown",
   "metadata": {},
   "source": [
    "## 31. 動詞\n",
    "\n",
    "動詞の表層形をすべて抽出せよ。"
   ]
  },
  {
   "cell_type": "code",
   "execution_count": 4,
   "metadata": {},
   "outputs": [
    {
     "data": {
      "text/plain": [
       "['生れ', 'つか', 'し', '泣い', 'し', 'いる', '始め', '見', '聞く', '捕え']"
      ]
     },
     "execution_count": 4,
     "metadata": {},
     "output_type": "execute_result"
    }
   ],
   "source": [
    "verb_list: List[str] = []\n",
    "for dictionary in dictionary_list:\n",
    "    if dictionary[\"pos\"] == \"動詞\":\n",
    "        verb_list.append(dictionary[\"surface\"])\n",
    "\n",
    "verb_list[:10]"
   ]
  },
  {
   "cell_type": "markdown",
   "metadata": {},
   "source": [
    "## 33. サ変名詞\n",
    "\n",
    "サ変接続の名詞をすべて抽出せよ。"
   ]
  },
  {
   "cell_type": "code",
   "execution_count": 5,
   "metadata": {},
   "outputs": [
    {
     "data": {
      "text/plain": [
       "['見当', '記憶', '話', '装飾', '突起', '運転', '記憶', '分別', '決心', '我慢']"
      ]
     },
     "execution_count": 5,
     "metadata": {},
     "output_type": "execute_result"
    }
   ],
   "source": [
    "verb_list: List[str] = []\n",
    "for dictionary in dictionary_list:\n",
    "    if dictionary[\"pos1\"] == \"サ変接続\":\n",
    "        verb_list.append(dictionary[\"surface\"])\n",
    "\n",
    "verb_list[:10]"
   ]
  },
  {
   "cell_type": "markdown",
   "metadata": {},
   "source": [
    "## 34. 「AのB」\n",
    "\n",
    "2つの名詞が「の」で連結されている名詞句を抽出せよ。"
   ]
  },
  {
   "cell_type": "code",
   "execution_count": 6,
   "metadata": {},
   "outputs": [
    {
     "data": {
      "text/plain": [
       "['彼の掌', '掌の上', '書生の顔', 'はずの顔', '顔の真中', '穴の中', '書生の掌', '掌の裏', '何の事', '肝心の母親']"
      ]
     },
     "execution_count": 6,
     "metadata": {},
     "output_type": "execute_result"
    }
   ],
   "source": [
    "noun_of_noun: List[str] = []\n",
    "for index in range(len(dictionary_list) - 2):\n",
    "    if dictionary_list[index][\"pos\"] != \"名詞\":\n",
    "        continue\n",
    "    if dictionary_list[index + 1][\"surface\"] != \"の\":\n",
    "        continue\n",
    "    if dictionary_list[index + 2][\"pos\"] != \"名詞\":\n",
    "        continue\n",
    "\n",
    "    noun_of_noun.append(dictionary_list[index][\"surface\"] +\n",
    "                        dictionary_list[index + 1][\"surface\"] +\n",
    "                        dictionary_list[index + 2][\"surface\"])\n",
    "\n",
    "noun_of_noun[:10]"
   ]
  },
  {
   "cell_type": "markdown",
   "metadata": {},
   "source": [
    "## 35. 名詞の連接\n",
    "\n",
    "名詞の連接（連続して出現する名詞）を最長一致で抽出せよ。"
   ]
  },
  {
   "cell_type": "code",
   "execution_count": 7,
   "metadata": {},
   "outputs": [
    {
     "data": {
      "text/plain": [
       "['毎日毎日', 'けらけら', '余所余所', '毎日毎日', '先生先生', '毎日毎日', '降参降参', 'それそれ', '○○', '愚図愚図']"
      ]
     },
     "execution_count": 7,
     "metadata": {},
     "output_type": "execute_result"
    }
   ],
   "source": [
    "noun_list: List[str] = []\n",
    "noun: List[str] = []\n",
    "for dictionary in dictionary_list:\n",
    "     \n",
    "    # 現在の単語が名詞でない場合\n",
    "    if dictionary[\"pos\"] != \"名詞\":\n",
    "        if len(noun) >= 2:\n",
    "            noun_list.append(\"\".join(noun))\n",
    "        noun = []\n",
    "        continue\n",
    "     \n",
    "    # 名詞であるが、一つ前の単語が名詞でない場合   \n",
    "    if not noun:\n",
    "        noun.append(dictionary[\"surface\"])\n",
    "        continue\n",
    "    \n",
    "    # 名詞であるが、一つ前の名詞と一致しない場合\n",
    "    if dictionary[\"surface\"] != noun[0]:\n",
    "        if len(noun) >= 2:\n",
    "            noun_list.append(\"\".join(noun))\n",
    "        noun = [dictionary[\"surface\"]]\n",
    "        continue\n",
    "    \n",
    "    # 名詞であり、一つ前の名詞と同じものである場合\n",
    "    noun.append(dictionary[\"surface\"])\n",
    "\n",
    "if len(noun) >= 2:\n",
    "    noun_list.append(\"\".join(noun))\n",
    "    \n",
    "noun_list[:10]"
   ]
  },
  {
   "cell_type": "markdown",
   "metadata": {},
   "source": [
    "## 36. 単語の出現頻度\n",
    "\n",
    "文章中に出現する単語とその出現頻度を求め、出現頻度の高い順に並べよ。"
   ]
  },
  {
   "cell_type": "code",
   "execution_count": 8,
   "metadata": {},
   "outputs": [
    {
     "data": {
      "text/plain": [
       "[('の', 9194),\n",
       " ('。', 7486),\n",
       " ('て', 6873),\n",
       " ('、', 6772),\n",
       " ('は', 6422),\n",
       " ('に', 6268),\n",
       " ('を', 6071),\n",
       " ('と', 5515),\n",
       " ('が', 5339),\n",
       " ('た', 3989)]"
      ]
     },
     "execution_count": 8,
     "metadata": {},
     "output_type": "execute_result"
    }
   ],
   "source": [
    "word_list: List[str] = []\n",
    "for dictionary in dictionary_list:\n",
    "    word_list.append(dictionary[\"surface\"])\n",
    "\n",
    "counter: Counter = Counter(word_list)\n",
    "\n",
    "# 上位10個の単語を表示\n",
    "counter.most_common(10)"
   ]
  },
  {
   "cell_type": "markdown",
   "metadata": {},
   "source": [
    "## 37. 頻度上位10語\n",
    "\n",
    "出現頻度が高い10語とその出現頻度をグラフ（例えば棒グラフなど）で表示せよ。"
   ]
  },
  {
   "cell_type": "markdown",
   "metadata": {},
   "source": [
    "pyplotの日本語表示が現状うまくいっていない。ごめんなさい。"
   ]
  },
  {
   "cell_type": "code",
   "execution_count": 9,
   "metadata": {},
   "outputs": [
    {
     "data": {
      "image/png": "[encoded data removed]",
      "text/plain": [
       "<matplotlib.figure.Figure at 0x11bb17630>"
      ]
     },
     "metadata": {},
     "output_type": "display_data"
    }
   ],
   "source": [
    "best_10: List[Dict[str, int]] = counter.most_common(10)\n",
    "\n",
    "word_list: List[str] = []\n",
    "count_list: List[str] = []\n",
    "for word, count in best_10:\n",
    "    word_list.append(word)\n",
    "    count_list.append(count)\n",
    "\n",
    "pyplot.bar(range(len(word_list)), count_list, tick_label=word_list)\n",
    "pyplot.show()"
   ]
  },
  {
   "cell_type": "markdown",
   "metadata": {},
   "source": [
    "## 38. ヒストグラム\n",
    "\n",
    "単語の出現頻度のヒストグラム（横軸に出現頻度、縦軸に出現頻度をとる単語の種類数を棒グラフで表したもの）を描け。"
   ]
  },
  {
   "cell_type": "code",
   "execution_count": 10,
   "metadata": {},
   "outputs": [
    {
     "data": {
      "image/png": "[encoded data removed]",
      "text/plain": [
       "<matplotlib.figure.Figure at 0x10fb09550>"
      ]
     },
     "metadata": {},
     "output_type": "display_data"
    }
   ],
   "source": [
    "count_list: List[str] = []\n",
    "\n",
    "for count in counter.most_common():\n",
    "    count_list.append(count[1])\n",
    "\n",
    "pyplot.hist(count_list, bins=10000)\n",
    "pyplot.xlim(0, 25)\n",
    "pyplot.ylabel(\"number\")\n",
    "pyplot.xlabel(\"frequency of appearance\")\n",
    "pyplot.show()"
   ]
  },
  {
   "cell_type": "markdown",
   "metadata": {},
   "source": [
    "## 39. Zipfの法則\n",
    "\n",
    "単語の出現頻度順位を横軸、その出現頻度を縦軸として、両対数グラフをプロットせよ。"
   ]
  },
  {
   "cell_type": "code",
   "execution_count": 11,
   "metadata": {},
   "outputs": [
    {
     "data": {
      "image/png": "[encoded data removed]",
      "text/plain": [
       "<matplotlib.figure.Figure at 0x11bb4e710>"
      ]
     },
     "metadata": {},
     "output_type": "display_data"
    }
   ],
   "source": [
    "pyplot.loglog(range(1, len(count_list) + 1), count_list)\n",
    "pyplot.ylabel(\"number(log)\")\n",
    "pyplot.xlabel(\"frequency of appearance(log)\")\n",
    "pyplot.show()"
   ]
  }
 ],
 "metadata": {
  "kernelspec": {
   "display_name": "Python 3",
   "language": "python",
   "name": "python3"
  },
  "language_info": {
   "codemirror_mode": {
    "name": "ipython",
    "version": 3
   },
   "file_extension": ".py",
   "mimetype": "text/x-python",
   "name": "python",
   "nbconvert_exporter": "python",
   "pygments_lexer": "ipython3",
   "version": "3.6.4"
  }
 },
 "nbformat": 4,
 "nbformat_minor": 1
}
